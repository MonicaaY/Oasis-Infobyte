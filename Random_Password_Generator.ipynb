{
  "nbformat": 4,
  "nbformat_minor": 0,
  "metadata": {
    "colab": {
      "provenance": [],
      "authorship_tag": "ABX9TyPh4+IAdqYTqz2ljSAbVuci",
      "include_colab_link": true
    },
    "kernelspec": {
      "name": "python3",
      "display_name": "Python 3"
    },
    "language_info": {
      "name": "python"
    }
  },
  "cells": [
    {
      "cell_type": "markdown",
      "metadata": {
        "id": "view-in-github",
        "colab_type": "text"
      },
      "source": [
        "<a href=\"https://colab.research.google.com/github/MonicaaY/Oasis-Infobyte/blob/main/Random_Password_Generator.ipynb\" target=\"_parent\"><img src=\"https://colab.research.google.com/assets/colab-badge.svg\" alt=\"Open In Colab\"/></a>"
      ]
    },
    {
      "cell_type": "code",
      "source": [
        "#Importing necessary modules:\n",
        "import random\n",
        "import string\n",
        "\n",
        "class PasswordGenerator:\n",
        "    def __init__(self):\n",
        "        self.available_chars = {\n",
        "            'letters': string.ascii_letters,\n",
        "            'digits': string.digits,\n",
        "            'symbols': string.punctuation\n",
        "        }\n",
        "\n",
        "    def generate_password(self, length, use_letters=True, use_digits=True, use_symbols=True, exclude_chars=None):\n",
        "        chars = ''\n",
        "        if use_letters:\n",
        "            chars += self.available_chars['letters']\n",
        "        if use_digits:\n",
        "            chars += self.available_chars['digits']\n",
        "        if use_symbols:\n",
        "            chars += self.available_chars['symbols']\n",
        "\n",
        "        if not chars:\n",
        "            print(\"Please select at least one character type.\")\n",
        "            return None\n",
        "\n",
        "        if exclude_chars:\n",
        "            chars = ''.join(c for c in chars if c not in exclude_chars)\n",
        "\n",
        "        password = ''.join(random.choice(chars) for _ in range(length))\n",
        "        return password\n",
        "\n",
        "def main():\n",
        "    password_generator = PasswordGenerator()\n",
        "\n",
        "    try:\n",
        "        length = int(input(\"Enter the length of the password: \"))\n",
        "        if length <= 0:\n",
        "            print(\"Password length must be a positive integer.\")\n",
        "            return\n",
        "\n",
        "        use_letters = input(\"Include letters? (yes/no): \").lower() in ['yes', 'y']\n",
        "        use_digits = input(\"Include digits? (yes/no): \").lower() in ['yes', 'y']\n",
        "        use_symbols = input(\"Include symbols? (yes/no): \").lower() in ['yes', 'y']\n",
        "\n",
        "        exclude_chars_input = input(\"Enter characters to exclude (optional, leave empty for none): \")\n",
        "        exclude_chars = exclude_chars_input if exclude_chars_input else None\n",
        "\n",
        "        password = password_generator.generate_password(length, use_letters, use_digits, use_symbols, exclude_chars)\n",
        "        if password:\n",
        "            print(f\"Generated Password: {password}\")\n",
        "    except ValueError:\n",
        "        print(\"Invalid input. Please enter a valid positive integer for password length.\")\n",
        "\n",
        "if __name__ == \"__main__\":\n",
        "    main()\n"
      ],
      "metadata": {
        "id": "0WvWbOUyQKtL",
        "colab": {
          "base_uri": "https://localhost:8080/"
        },
        "outputId": "c839e737-f0b4-4b68-b4de-4d720743e43f"
      },
      "execution_count": null,
      "outputs": [
        {
          "output_type": "stream",
          "name": "stdout",
          "text": [
            "Enter the length of the password: 4\n",
            "Include letters? (yes/no): n\n",
            "Include digits? (yes/no): y\n",
            "Include symbols? (yes/no): y\n",
            "Enter characters to exclude (optional, leave empty for none): m,9\n",
            "Generated Password: +8)6\n"
          ]
        }
      ]
    },
    {
      "cell_type": "code",
      "source": [],
      "metadata": {
        "id": "oQ8tfKqn6ZU4"
      },
      "execution_count": null,
      "outputs": []
    }
  ]
}