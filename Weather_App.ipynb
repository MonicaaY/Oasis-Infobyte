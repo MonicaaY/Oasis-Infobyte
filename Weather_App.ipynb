{
  "nbformat": 4,
  "nbformat_minor": 0,
  "metadata": {
    "colab": {
      "provenance": [],
      "authorship_tag": "ABX9TyO931fF+3q01eKslpOA7v9c",
      "include_colab_link": true
    },
    "kernelspec": {
      "name": "python3",
      "display_name": "Python 3"
    },
    "language_info": {
      "name": "python"
    }
  },
  "cells": [
    {
      "cell_type": "markdown",
      "metadata": {
        "id": "view-in-github",
        "colab_type": "text"
      },
      "source": [
        "<a href=\"https://colab.research.google.com/github/MonicaaY/Oasis-Infobyte/blob/main/Weather_App.ipynb\" target=\"_parent\"><img src=\"https://colab.research.google.com/assets/colab-badge.svg\" alt=\"Open In Colab\"/></a>"
      ]
    },
    {
      "cell_type": "code",
      "source": [
        "#Importing necessary libraries:\n",
        "import requests\n",
        "import matplotlib.pyplot as plt\n",
        "from matplotlib.offsetbox import TextArea, DrawingArea, OffsetImage, AnnotationBbox\n",
        "from PIL import Image\n",
        "import io"
      ],
      "metadata": {
        "id": "3ltw837C2Pz9"
      },
      "execution_count": null,
      "outputs": []
    },
    {
      "cell_type": "code",
      "source": [
        "'''This initializes the WeatherApp class with the OpenWeatherMap API key and sets,\n",
        "the base URLs for weather data and weather icons'''\n",
        "class WeatherApp:\n",
        "    def __init__(self, api_key):\n",
        "        self.api_key = api_key\n",
        "        self.base_url = \"http://api.openweathermap.org/data/2.5/weather\"\n",
        "        self.icon_base_url = \"http://openweathermap.org/img/wn/\"\n",
        "\n",
        "    def get_weather(self, location):\n",
        "        params = {\n",
        "            'q': location,\n",
        "            'appid': self.api_key,\n",
        "            'units': 'metric'  # Units for temperature (metric for Celsius)\n",
        "        }\n",
        "        response = requests.get(self.base_url, params=params)\n",
        "\n",
        "        if response.status_code == 200:\n",
        "            data = response.json()\n",
        "            self.display_weather(data)\n",
        "        else:\n",
        "            print(\"Error fetching weather data.\")\n",
        "\n",
        "    def display_weather(self, data):\n",
        "    #extracts relevant weather information from the JSON data and prints on the console.\n",
        "        city = data['name']\n",
        "        temperature = data['main']['temp']\n",
        "        humidity = data['main']['humidity']\n",
        "        weather_description = data['weather'][0]['description']\n",
        "        icon_id = data['weather'][0]['icon']\n",
        "\n",
        "        print(f\"Weather in {city}:\")\n",
        "        print(f\"Temperature: {temperature}°C\")\n",
        "        print(f\"Humidity: {humidity}%\")\n",
        "        print(f\"Conditions: {weather_description}\")\n",
        "\n",
        "        # Display weather icon\n",
        "        self.display_icon(icon_id)\n",
        "\n",
        "    def display_icon(self, icon_id):\n",
        "        url = f\"{self.icon_base_url}{icon_id}@2x.png\"\n",
        "        response = requests.get(url)\n",
        "\n",
        "        if response.status_code == 200:\n",
        "            img = Image.open(io.BytesIO(response.content))\n",
        "\n",
        "            # Display the image using Matplotlib\n",
        "            plt.figure(figsize=(4, 4))\n",
        "            plt.imshow(img)\n",
        "            plt.axis('off')\n",
        "            plt.show()\n",
        "        else:\n",
        "            print(\"Error fetching weather icon.\")\n",
        "\n",
        "def main():\n",
        "  #Here the API key has been established from the Openweathermap website!\n",
        "    api_key = '16aec25d5b9b8fe79552df67c1ff7bfd'\n",
        "    weather_app = WeatherApp(api_key)\n",
        "\n",
        "    location = input(\"Enter the city or ZIP code: \")\n",
        "    weather_app.get_weather(location)\n",
        "\n",
        "if __name__ == \"__main__\":\n",
        "    main()\n"
      ],
      "metadata": {
        "colab": {
          "base_uri": "https://localhost:8080/",
          "height": 432
        },
        "id": "zE29z_JX2vFG",
        "outputId": "91b7fb4e-c4de-48a0-b3bb-b9dcdb693c1d"
      },
      "execution_count": null,
      "outputs": [
        {
          "output_type": "stream",
          "name": "stdout",
          "text": [
            "Enter the city or ZIP code: Brisbane\n",
            "Weather in Brisbane:\n",
            "Temperature: 13.04°C\n",
            "Humidity: 79%\n",
            "Conditions: clear sky\n"
          ]
        },
        {
          "output_type": "display_data",
          "data": {
            "text/plain": [
              "<Figure size 400x400 with 1 Axes>"
            ],
            "image/png": "[encoded data removed]"
          },
          "metadata": {}
        }
      ]
    },
    {
      "cell_type": "code",
      "source": [],
      "metadata": {
        "id": "iY17gF3_4LU4"
      },
      "execution_count": null,
      "outputs": []
    }
  ]
}